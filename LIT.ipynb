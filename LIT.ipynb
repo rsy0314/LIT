{
 "cells": [
  {
   "cell_type": "markdown",
   "metadata": {},
   "source": [
    "----\n",
    "<font size=3>\n",
    "    \n",
    "**Import packages needed.**\n",
    "<br><br>    "
   ]
  },
  {
   "cell_type": "code",
   "execution_count": 296,
   "metadata": {},
   "outputs": [],
   "source": [
    "import pandas as pd\n",
    "from datetime import datetime\n",
    "import csv\n",
    "import numpy as np"
   ]
  },
  {
   "cell_type": "markdown",
   "metadata": {},
   "source": [
    "<font size=6>\n",
    "<br><br>     \n",
    "\n",
    "**Daily Excess Rate**\n",
    "\n",
    "----\n",
    "<font size=4>\n",
    "    \n",
    "**Daily Excess Rate = returns achieved above the return of a proxy.**\n",
    "    \n",
    "**We want calculate the daily oil returns above the 3 month treasury bill rate.**\n",
    "\n",
    "<br><br>\n",
    "    \n",
    "**Use Pandas to import 3 month treasury bill rate csv file and delete the rows missing data.**\n",
    "<br><br>    "
   ]
  },
  {
   "cell_type": "code",
   "execution_count": 297,
   "metadata": {},
   "outputs": [],
   "source": [
    "T = pd.read_csv('3MO.csv')\n",
    "T = T[T.DTB3 != '.']"
   ]
  },
  {
   "cell_type": "markdown",
   "metadata": {},
   "source": [
    "----\n",
    "<font size=3>\n",
    "    \n",
    "**Review the dataframe.**\n",
    "<br><br>    "
   ]
  },
  {
   "cell_type": "code",
   "execution_count": 298,
   "metadata": {},
   "outputs": [
    {
     "data": {
      "text/html": [
       "<div>\n",
       "<style scoped>\n",
       "    .dataframe tbody tr th:only-of-type {\n",
       "        vertical-align: middle;\n",
       "    }\n",
       "\n",
       "    .dataframe tbody tr th {\n",
       "        vertical-align: top;\n",
       "    }\n",
       "\n",
       "    .dataframe thead th {\n",
       "        text-align: right;\n",
       "    }\n",
       "</style>\n",
       "<table border=\"1\" class=\"dataframe\">\n",
       "  <thead>\n",
       "    <tr style=\"text-align: right;\">\n",
       "      <th></th>\n",
       "      <th>DATE</th>\n",
       "      <th>DTB3</th>\n",
       "    </tr>\n",
       "  </thead>\n",
       "  <tbody>\n",
       "    <tr>\n",
       "      <th>0</th>\n",
       "      <td>2016-08-26</td>\n",
       "      <td>0.33</td>\n",
       "    </tr>\n",
       "    <tr>\n",
       "      <th>1</th>\n",
       "      <td>2016-08-29</td>\n",
       "      <td>0.33</td>\n",
       "    </tr>\n",
       "    <tr>\n",
       "      <th>2</th>\n",
       "      <td>2016-08-30</td>\n",
       "      <td>0.33</td>\n",
       "    </tr>\n",
       "    <tr>\n",
       "      <th>3</th>\n",
       "      <td>2016-08-31</td>\n",
       "      <td>0.33</td>\n",
       "    </tr>\n",
       "    <tr>\n",
       "      <th>4</th>\n",
       "      <td>2016-09-01</td>\n",
       "      <td>0.33</td>\n",
       "    </tr>\n",
       "    <tr>\n",
       "      <th>5</th>\n",
       "      <td>2016-09-02</td>\n",
       "      <td>0.32</td>\n",
       "    </tr>\n",
       "    <tr>\n",
       "      <th>7</th>\n",
       "      <td>2016-09-06</td>\n",
       "      <td>0.32</td>\n",
       "    </tr>\n",
       "    <tr>\n",
       "      <th>8</th>\n",
       "      <td>2016-09-07</td>\n",
       "      <td>0.34</td>\n",
       "    </tr>\n",
       "    <tr>\n",
       "      <th>9</th>\n",
       "      <td>2016-09-08</td>\n",
       "      <td>0.34</td>\n",
       "    </tr>\n",
       "    <tr>\n",
       "      <th>10</th>\n",
       "      <td>2016-09-09</td>\n",
       "      <td>0.34</td>\n",
       "    </tr>\n",
       "  </tbody>\n",
       "</table>\n",
       "</div>"
      ],
      "text/plain": [
       "          DATE  DTB3\n",
       "0   2016-08-26  0.33\n",
       "1   2016-08-29  0.33\n",
       "2   2016-08-30  0.33\n",
       "3   2016-08-31  0.33\n",
       "4   2016-09-01  0.33\n",
       "5   2016-09-02  0.32\n",
       "7   2016-09-06  0.32\n",
       "8   2016-09-07  0.34\n",
       "9   2016-09-08  0.34\n",
       "10  2016-09-09  0.34"
      ]
     },
     "execution_count": 298,
     "metadata": {},
     "output_type": "execute_result"
    }
   ],
   "source": [
    "T.head(10)"
   ]
  },
  {
   "cell_type": "code",
   "execution_count": 299,
   "metadata": {},
   "outputs": [
    {
     "name": "stdout",
     "output_type": "stream",
     "text": [
      "<class 'pandas.core.frame.DataFrame'>\n",
      "Int64Index: 1210 entries, 0 to 1262\n",
      "Data columns (total 2 columns):\n",
      " #   Column  Non-Null Count  Dtype \n",
      "---  ------  --------------  ----- \n",
      " 0   DATE    1210 non-null   object\n",
      " 1   DTB3    1210 non-null   object\n",
      "dtypes: object(2)\n",
      "memory usage: 28.4+ KB\n"
     ]
    }
   ],
   "source": [
    "T.info()"
   ]
  },
  {
   "cell_type": "markdown",
   "metadata": {},
   "source": [
    "----\n",
    "<font size=3>\n",
    "    \n",
    "**From the above information, we need to convert 'DATE' column to datetime format and 'DTB3' column to float format.**     \n",
    "**We also need to convert the rate from percentage to decimal.** \n",
    "<br><br> \n",
    "**In addition, we would like to change 'DTB3' column name to 'Rate' for clarity.** \n",
    "\n",
    "<br><br>    "
   ]
  },
  {
   "cell_type": "code",
   "execution_count": 300,
   "metadata": {},
   "outputs": [],
   "source": [
    "T['DATE'] = pd.to_datetime(T['DATE'])\n",
    "T['DTB3'] = pd.to_numeric(T['DTB3'], downcast=\"float\")"
   ]
  },
  {
   "cell_type": "code",
   "execution_count": 301,
   "metadata": {},
   "outputs": [],
   "source": [
    "T['DTB3'] = T['DTB3'].div(100)"
   ]
  },
  {
   "cell_type": "code",
   "execution_count": 302,
   "metadata": {},
   "outputs": [],
   "source": [
    "T.rename(columns={'DTB3': 'Rate'}, inplace=True)"
   ]
  },
  {
   "cell_type": "markdown",
   "metadata": {},
   "source": [
    "----\n",
    "<font size=3>\n",
    "    \n",
    "**Sub-Dataframe to contain the data from '2019-12-31' to '2020-12-31'. Name it 'chooseT'.**\n",
    "<br><br>\n",
    "**Double check the dataframe and make sure we got the right form for future convenience.**\n",
    "\n",
    "<br><br>    "
   ]
  },
  {
   "cell_type": "code",
   "execution_count": 303,
   "metadata": {},
   "outputs": [],
   "source": [
    "Tdate = (T['DATE'] > '2019-12-30') & (T['DATE'] <= '2020-12-31')\n",
    "chooseT = T.loc[Tdate]"
   ]
  },
  {
   "cell_type": "code",
   "execution_count": 304,
   "metadata": {},
   "outputs": [
    {
     "data": {
      "text/html": [
       "<div>\n",
       "<style scoped>\n",
       "    .dataframe tbody tr th:only-of-type {\n",
       "        vertical-align: middle;\n",
       "    }\n",
       "\n",
       "    .dataframe tbody tr th {\n",
       "        vertical-align: top;\n",
       "    }\n",
       "\n",
       "    .dataframe thead th {\n",
       "        text-align: right;\n",
       "    }\n",
       "</style>\n",
       "<table border=\"1\" class=\"dataframe\">\n",
       "  <thead>\n",
       "    <tr style=\"text-align: right;\">\n",
       "      <th></th>\n",
       "      <th>DATE</th>\n",
       "      <th>Rate</th>\n",
       "    </tr>\n",
       "  </thead>\n",
       "  <tbody>\n",
       "    <tr>\n",
       "      <th>872</th>\n",
       "      <td>2019-12-31</td>\n",
       "      <td>0.0152</td>\n",
       "    </tr>\n",
       "    <tr>\n",
       "      <th>874</th>\n",
       "      <td>2020-01-02</td>\n",
       "      <td>0.0151</td>\n",
       "    </tr>\n",
       "    <tr>\n",
       "      <th>875</th>\n",
       "      <td>2020-01-03</td>\n",
       "      <td>0.0149</td>\n",
       "    </tr>\n",
       "    <tr>\n",
       "      <th>876</th>\n",
       "      <td>2020-01-06</td>\n",
       "      <td>0.0153</td>\n",
       "    </tr>\n",
       "    <tr>\n",
       "      <th>877</th>\n",
       "      <td>2020-01-07</td>\n",
       "      <td>0.0151</td>\n",
       "    </tr>\n",
       "    <tr>\n",
       "      <th>878</th>\n",
       "      <td>2020-01-08</td>\n",
       "      <td>0.0151</td>\n",
       "    </tr>\n",
       "    <tr>\n",
       "      <th>879</th>\n",
       "      <td>2020-01-09</td>\n",
       "      <td>0.0151</td>\n",
       "    </tr>\n",
       "    <tr>\n",
       "      <th>880</th>\n",
       "      <td>2020-01-10</td>\n",
       "      <td>0.0151</td>\n",
       "    </tr>\n",
       "    <tr>\n",
       "      <th>881</th>\n",
       "      <td>2020-01-13</td>\n",
       "      <td>0.0154</td>\n",
       "    </tr>\n",
       "    <tr>\n",
       "      <th>882</th>\n",
       "      <td>2020-01-14</td>\n",
       "      <td>0.0154</td>\n",
       "    </tr>\n",
       "  </tbody>\n",
       "</table>\n",
       "</div>"
      ],
      "text/plain": [
       "          DATE    Rate\n",
       "872 2019-12-31  0.0152\n",
       "874 2020-01-02  0.0151\n",
       "875 2020-01-03  0.0149\n",
       "876 2020-01-06  0.0153\n",
       "877 2020-01-07  0.0151\n",
       "878 2020-01-08  0.0151\n",
       "879 2020-01-09  0.0151\n",
       "880 2020-01-10  0.0151\n",
       "881 2020-01-13  0.0154\n",
       "882 2020-01-14  0.0154"
      ]
     },
     "execution_count": 304,
     "metadata": {},
     "output_type": "execute_result"
    }
   ],
   "source": [
    "chooseT.head(10)"
   ]
  },
  {
   "cell_type": "code",
   "execution_count": 305,
   "metadata": {},
   "outputs": [
    {
     "name": "stdout",
     "output_type": "stream",
     "text": [
      "<class 'pandas.core.frame.DataFrame'>\n",
      "Int64Index: 251 entries, 872 to 1133\n",
      "Data columns (total 2 columns):\n",
      " #   Column  Non-Null Count  Dtype         \n",
      "---  ------  --------------  -----         \n",
      " 0   DATE    251 non-null    datetime64[ns]\n",
      " 1   Rate    251 non-null    float32       \n",
      "dtypes: datetime64[ns](1), float32(1)\n",
      "memory usage: 4.9 KB\n"
     ]
    }
   ],
   "source": [
    "chooseT.info()"
   ]
  },
  {
   "cell_type": "markdown",
   "metadata": {},
   "source": [
    "----\n",
    "<font size=4>\n",
    "    \n",
    "**Import the second spreadsheet of oil prices in the xls file.**\n",
    "<br><br>    "
   ]
  },
  {
   "cell_type": "code",
   "execution_count": 306,
   "metadata": {},
   "outputs": [],
   "source": [
    "xls = pd.ExcelFile('RWTCd.xls')\n",
    "df = pd.read_excel(xls, 'Data 1',skiprows = 2)"
   ]
  },
  {
   "cell_type": "markdown",
   "metadata": {},
   "source": [
    "----\n",
    "<font size=3>\n",
    "    \n",
    "**Review the dataframe.**\n",
    "<br><br>    "
   ]
  },
  {
   "cell_type": "code",
   "execution_count": 307,
   "metadata": {},
   "outputs": [
    {
     "data": {
      "text/html": [
       "<div>\n",
       "<style scoped>\n",
       "    .dataframe tbody tr th:only-of-type {\n",
       "        vertical-align: middle;\n",
       "    }\n",
       "\n",
       "    .dataframe tbody tr th {\n",
       "        vertical-align: top;\n",
       "    }\n",
       "\n",
       "    .dataframe thead th {\n",
       "        text-align: right;\n",
       "    }\n",
       "</style>\n",
       "<table border=\"1\" class=\"dataframe\">\n",
       "  <thead>\n",
       "    <tr style=\"text-align: right;\">\n",
       "      <th></th>\n",
       "      <th>Date</th>\n",
       "      <th>Cushing, OK WTI Spot Price FOB (Dollars per Barrel)</th>\n",
       "    </tr>\n",
       "  </thead>\n",
       "  <tbody>\n",
       "    <tr>\n",
       "      <th>0</th>\n",
       "      <td>1986-01-02</td>\n",
       "      <td>25.56</td>\n",
       "    </tr>\n",
       "    <tr>\n",
       "      <th>1</th>\n",
       "      <td>1986-01-03</td>\n",
       "      <td>26.00</td>\n",
       "    </tr>\n",
       "    <tr>\n",
       "      <th>2</th>\n",
       "      <td>1986-01-06</td>\n",
       "      <td>26.53</td>\n",
       "    </tr>\n",
       "    <tr>\n",
       "      <th>3</th>\n",
       "      <td>1986-01-07</td>\n",
       "      <td>25.85</td>\n",
       "    </tr>\n",
       "    <tr>\n",
       "      <th>4</th>\n",
       "      <td>1986-01-08</td>\n",
       "      <td>25.87</td>\n",
       "    </tr>\n",
       "    <tr>\n",
       "      <th>...</th>\n",
       "      <td>...</td>\n",
       "      <td>...</td>\n",
       "    </tr>\n",
       "    <tr>\n",
       "      <th>8977</th>\n",
       "      <td>2021-08-17</td>\n",
       "      <td>66.50</td>\n",
       "    </tr>\n",
       "    <tr>\n",
       "      <th>8978</th>\n",
       "      <td>2021-08-18</td>\n",
       "      <td>65.36</td>\n",
       "    </tr>\n",
       "    <tr>\n",
       "      <th>8979</th>\n",
       "      <td>2021-08-19</td>\n",
       "      <td>63.69</td>\n",
       "    </tr>\n",
       "    <tr>\n",
       "      <th>8980</th>\n",
       "      <td>2021-08-20</td>\n",
       "      <td>62.25</td>\n",
       "    </tr>\n",
       "    <tr>\n",
       "      <th>8981</th>\n",
       "      <td>2021-08-23</td>\n",
       "      <td>65.65</td>\n",
       "    </tr>\n",
       "  </tbody>\n",
       "</table>\n",
       "<p>8982 rows × 2 columns</p>\n",
       "</div>"
      ],
      "text/plain": [
       "           Date  Cushing, OK WTI Spot Price FOB (Dollars per Barrel)\n",
       "0    1986-01-02                                              25.56  \n",
       "1    1986-01-03                                              26.00  \n",
       "2    1986-01-06                                              26.53  \n",
       "3    1986-01-07                                              25.85  \n",
       "4    1986-01-08                                              25.87  \n",
       "...         ...                                                ...  \n",
       "8977 2021-08-17                                              66.50  \n",
       "8978 2021-08-18                                              65.36  \n",
       "8979 2021-08-19                                              63.69  \n",
       "8980 2021-08-20                                              62.25  \n",
       "8981 2021-08-23                                              65.65  \n",
       "\n",
       "[8982 rows x 2 columns]"
      ]
     },
     "execution_count": 307,
     "metadata": {},
     "output_type": "execute_result"
    }
   ],
   "source": [
    "df"
   ]
  },
  {
   "cell_type": "code",
   "execution_count": 308,
   "metadata": {},
   "outputs": [
    {
     "name": "stdout",
     "output_type": "stream",
     "text": [
      "<class 'pandas.core.frame.DataFrame'>\n",
      "RangeIndex: 8982 entries, 0 to 8981\n",
      "Data columns (total 2 columns):\n",
      " #   Column                                               Non-Null Count  Dtype         \n",
      "---  ------                                               --------------  -----         \n",
      " 0   Date                                                 8982 non-null   datetime64[ns]\n",
      " 1   Cushing, OK WTI Spot Price FOB (Dollars per Barrel)  8982 non-null   float64       \n",
      "dtypes: datetime64[ns](1), float64(1)\n",
      "memory usage: 140.5 KB\n"
     ]
    }
   ],
   "source": [
    "df.info()"
   ]
  },
  {
   "cell_type": "markdown",
   "metadata": {},
   "source": [
    "----\n",
    "<font size=3>\n",
    "    \n",
    "**For convenience, shorten the price column name to 'Price' and change the 'Date' to 'DATE' to conform with T dataframe.**\n",
    "<br><br>    "
   ]
  },
  {
   "cell_type": "code",
   "execution_count": 309,
   "metadata": {},
   "outputs": [],
   "source": [
    "df.rename(columns={'Cushing, OK WTI Spot Price FOB (Dollars per Barrel)': 'Price'}, inplace=True)\n",
    "df.rename(columns={'Date': 'DATE'}, inplace=True)"
   ]
  },
  {
   "cell_type": "markdown",
   "metadata": {},
   "source": [
    "----\n",
    "<font size=3>\n",
    "    \n",
    "**Calculate the returns from the prices and add it to the oil prices dataframe.**\n",
    "<br><br>    "
   ]
  },
  {
   "cell_type": "code",
   "execution_count": 310,
   "metadata": {},
   "outputs": [
    {
     "data": {
      "text/plain": [
       "0            NaN\n",
       "1       0.017214\n",
       "2       0.020385\n",
       "3      -0.025631\n",
       "4       0.000774\n",
       "          ...   \n",
       "8977   -0.013938\n",
       "8978   -0.017143\n",
       "8979   -0.025551\n",
       "8980   -0.022610\n",
       "8981    0.054618\n",
       "Name: Price, Length: 8982, dtype: float64"
      ]
     },
     "execution_count": 310,
     "metadata": {},
     "output_type": "execute_result"
    }
   ],
   "source": [
    "returns = df['Price'].pct_change()\n",
    "returns"
   ]
  },
  {
   "cell_type": "code",
   "execution_count": 311,
   "metadata": {},
   "outputs": [],
   "source": [
    "df['Return'] = returns.tolist()"
   ]
  },
  {
   "cell_type": "markdown",
   "metadata": {},
   "source": [
    "----\n",
    "<font size=3>\n",
    "    \n",
    "**Sub-Dataframe to contain the data from '2019-12-31' to '2020-12-31'. Name it 'choosedf'.**\n",
    "<br><br>\n",
    "**Double check the dataframe and make sure we got the right form for future convenience.**\n",
    "\n",
    "<br><br>  "
   ]
  },
  {
   "cell_type": "code",
   "execution_count": 312,
   "metadata": {},
   "outputs": [],
   "source": [
    "dfdate = (df['DATE'] > '2019-12-30') & (df['DATE'] <= '2020-12-31')\n",
    "choosedf = df.loc[dfdate]"
   ]
  },
  {
   "cell_type": "code",
   "execution_count": 313,
   "metadata": {},
   "outputs": [
    {
     "data": {
      "text/html": [
       "<div>\n",
       "<style scoped>\n",
       "    .dataframe tbody tr th:only-of-type {\n",
       "        vertical-align: middle;\n",
       "    }\n",
       "\n",
       "    .dataframe tbody tr th {\n",
       "        vertical-align: top;\n",
       "    }\n",
       "\n",
       "    .dataframe thead th {\n",
       "        text-align: right;\n",
       "    }\n",
       "</style>\n",
       "<table border=\"1\" class=\"dataframe\">\n",
       "  <thead>\n",
       "    <tr style=\"text-align: right;\">\n",
       "      <th></th>\n",
       "      <th>DATE</th>\n",
       "      <th>Price</th>\n",
       "      <th>Return</th>\n",
       "    </tr>\n",
       "  </thead>\n",
       "  <tbody>\n",
       "    <tr>\n",
       "      <th>8568</th>\n",
       "      <td>2019-12-31</td>\n",
       "      <td>61.14</td>\n",
       "      <td>-0.008433</td>\n",
       "    </tr>\n",
       "    <tr>\n",
       "      <th>8569</th>\n",
       "      <td>2020-01-02</td>\n",
       "      <td>61.17</td>\n",
       "      <td>0.000491</td>\n",
       "    </tr>\n",
       "    <tr>\n",
       "      <th>8570</th>\n",
       "      <td>2020-01-03</td>\n",
       "      <td>63.00</td>\n",
       "      <td>0.029917</td>\n",
       "    </tr>\n",
       "    <tr>\n",
       "      <th>8571</th>\n",
       "      <td>2020-01-06</td>\n",
       "      <td>63.27</td>\n",
       "      <td>0.004286</td>\n",
       "    </tr>\n",
       "    <tr>\n",
       "      <th>8572</th>\n",
       "      <td>2020-01-07</td>\n",
       "      <td>62.70</td>\n",
       "      <td>-0.009009</td>\n",
       "    </tr>\n",
       "    <tr>\n",
       "      <th>8573</th>\n",
       "      <td>2020-01-08</td>\n",
       "      <td>59.65</td>\n",
       "      <td>-0.048644</td>\n",
       "    </tr>\n",
       "    <tr>\n",
       "      <th>8574</th>\n",
       "      <td>2020-01-09</td>\n",
       "      <td>59.56</td>\n",
       "      <td>-0.001509</td>\n",
       "    </tr>\n",
       "    <tr>\n",
       "      <th>8575</th>\n",
       "      <td>2020-01-10</td>\n",
       "      <td>59.02</td>\n",
       "      <td>-0.009066</td>\n",
       "    </tr>\n",
       "    <tr>\n",
       "      <th>8576</th>\n",
       "      <td>2020-01-13</td>\n",
       "      <td>58.17</td>\n",
       "      <td>-0.014402</td>\n",
       "    </tr>\n",
       "    <tr>\n",
       "      <th>8577</th>\n",
       "      <td>2020-01-14</td>\n",
       "      <td>58.34</td>\n",
       "      <td>0.002922</td>\n",
       "    </tr>\n",
       "  </tbody>\n",
       "</table>\n",
       "</div>"
      ],
      "text/plain": [
       "           DATE  Price    Return\n",
       "8568 2019-12-31  61.14 -0.008433\n",
       "8569 2020-01-02  61.17  0.000491\n",
       "8570 2020-01-03  63.00  0.029917\n",
       "8571 2020-01-06  63.27  0.004286\n",
       "8572 2020-01-07  62.70 -0.009009\n",
       "8573 2020-01-08  59.65 -0.048644\n",
       "8574 2020-01-09  59.56 -0.001509\n",
       "8575 2020-01-10  59.02 -0.009066\n",
       "8576 2020-01-13  58.17 -0.014402\n",
       "8577 2020-01-14  58.34  0.002922"
      ]
     },
     "execution_count": 313,
     "metadata": {},
     "output_type": "execute_result"
    }
   ],
   "source": [
    "choosedf.head(10)"
   ]
  },
  {
   "cell_type": "code",
   "execution_count": 314,
   "metadata": {},
   "outputs": [
    {
     "name": "stdout",
     "output_type": "stream",
     "text": [
      "<class 'pandas.core.frame.DataFrame'>\n",
      "Int64Index: 253 entries, 8568 to 8820\n",
      "Data columns (total 3 columns):\n",
      " #   Column  Non-Null Count  Dtype         \n",
      "---  ------  --------------  -----         \n",
      " 0   DATE    253 non-null    datetime64[ns]\n",
      " 1   Price   253 non-null    float64       \n",
      " 2   Return  253 non-null    float64       \n",
      "dtypes: datetime64[ns](1), float64(2)\n",
      "memory usage: 7.9 KB\n"
     ]
    }
   ],
   "source": [
    "choosedf.info()"
   ]
  },
  {
   "cell_type": "markdown",
   "metadata": {},
   "source": [
    "----\n",
    "<font size=3>\n",
    "    \n",
    "**Combine two dataframes using outer join to contain all the data and drop the rows with empty cells.**\n",
    "<br><br>  "
   ]
  },
  {
   "cell_type": "code",
   "execution_count": 315,
   "metadata": {},
   "outputs": [],
   "source": [
    "merge = pd.merge(choosedf,chooseT,how = 'outer', on = 'DATE')\n",
    "merge = merge.dropna()"
   ]
  },
  {
   "cell_type": "markdown",
   "metadata": {},
   "source": [
    "----\n",
    "<font size=3>\n",
    "    \n",
    "**Review the dataframe to make sure everything is correct.**\n",
    "<br><br>  "
   ]
  },
  {
   "cell_type": "code",
   "execution_count": 316,
   "metadata": {},
   "outputs": [
    {
     "data": {
      "text/html": [
       "<div>\n",
       "<style scoped>\n",
       "    .dataframe tbody tr th:only-of-type {\n",
       "        vertical-align: middle;\n",
       "    }\n",
       "\n",
       "    .dataframe tbody tr th {\n",
       "        vertical-align: top;\n",
       "    }\n",
       "\n",
       "    .dataframe thead th {\n",
       "        text-align: right;\n",
       "    }\n",
       "</style>\n",
       "<table border=\"1\" class=\"dataframe\">\n",
       "  <thead>\n",
       "    <tr style=\"text-align: right;\">\n",
       "      <th></th>\n",
       "      <th>DATE</th>\n",
       "      <th>Price</th>\n",
       "      <th>Return</th>\n",
       "      <th>Rate</th>\n",
       "    </tr>\n",
       "  </thead>\n",
       "  <tbody>\n",
       "    <tr>\n",
       "      <th>0</th>\n",
       "      <td>2019-12-31</td>\n",
       "      <td>61.14</td>\n",
       "      <td>-0.008433</td>\n",
       "      <td>0.0152</td>\n",
       "    </tr>\n",
       "    <tr>\n",
       "      <th>1</th>\n",
       "      <td>2020-01-02</td>\n",
       "      <td>61.17</td>\n",
       "      <td>0.000491</td>\n",
       "      <td>0.0151</td>\n",
       "    </tr>\n",
       "    <tr>\n",
       "      <th>2</th>\n",
       "      <td>2020-01-03</td>\n",
       "      <td>63.00</td>\n",
       "      <td>0.029917</td>\n",
       "      <td>0.0149</td>\n",
       "    </tr>\n",
       "    <tr>\n",
       "      <th>3</th>\n",
       "      <td>2020-01-06</td>\n",
       "      <td>63.27</td>\n",
       "      <td>0.004286</td>\n",
       "      <td>0.0153</td>\n",
       "    </tr>\n",
       "    <tr>\n",
       "      <th>4</th>\n",
       "      <td>2020-01-07</td>\n",
       "      <td>62.70</td>\n",
       "      <td>-0.009009</td>\n",
       "      <td>0.0151</td>\n",
       "    </tr>\n",
       "    <tr>\n",
       "      <th>...</th>\n",
       "      <td>...</td>\n",
       "      <td>...</td>\n",
       "      <td>...</td>\n",
       "      <td>...</td>\n",
       "    </tr>\n",
       "    <tr>\n",
       "      <th>248</th>\n",
       "      <td>2020-12-24</td>\n",
       "      <td>48.18</td>\n",
       "      <td>0.005006</td>\n",
       "      <td>0.0009</td>\n",
       "    </tr>\n",
       "    <tr>\n",
       "      <th>249</th>\n",
       "      <td>2020-12-28</td>\n",
       "      <td>47.50</td>\n",
       "      <td>-0.014114</td>\n",
       "      <td>0.0011</td>\n",
       "    </tr>\n",
       "    <tr>\n",
       "      <th>250</th>\n",
       "      <td>2020-12-29</td>\n",
       "      <td>47.85</td>\n",
       "      <td>0.007368</td>\n",
       "      <td>0.0010</td>\n",
       "    </tr>\n",
       "    <tr>\n",
       "      <th>251</th>\n",
       "      <td>2020-12-30</td>\n",
       "      <td>48.24</td>\n",
       "      <td>0.008150</td>\n",
       "      <td>0.0008</td>\n",
       "    </tr>\n",
       "    <tr>\n",
       "      <th>252</th>\n",
       "      <td>2020-12-31</td>\n",
       "      <td>48.35</td>\n",
       "      <td>0.002280</td>\n",
       "      <td>0.0009</td>\n",
       "    </tr>\n",
       "  </tbody>\n",
       "</table>\n",
       "<p>250 rows × 4 columns</p>\n",
       "</div>"
      ],
      "text/plain": [
       "          DATE  Price    Return    Rate\n",
       "0   2019-12-31  61.14 -0.008433  0.0152\n",
       "1   2020-01-02  61.17  0.000491  0.0151\n",
       "2   2020-01-03  63.00  0.029917  0.0149\n",
       "3   2020-01-06  63.27  0.004286  0.0153\n",
       "4   2020-01-07  62.70 -0.009009  0.0151\n",
       "..         ...    ...       ...     ...\n",
       "248 2020-12-24  48.18  0.005006  0.0009\n",
       "249 2020-12-28  47.50 -0.014114  0.0011\n",
       "250 2020-12-29  47.85  0.007368  0.0010\n",
       "251 2020-12-30  48.24  0.008150  0.0008\n",
       "252 2020-12-31  48.35  0.002280  0.0009\n",
       "\n",
       "[250 rows x 4 columns]"
      ]
     },
     "execution_count": 316,
     "metadata": {},
     "output_type": "execute_result"
    }
   ],
   "source": [
    "merge"
   ]
  },
  {
   "cell_type": "markdown",
   "metadata": {},
   "source": [
    "----\n",
    "<font size=3>\n",
    "    \n",
    "**Calculate the Excess Return as oil returns - 3 month treasury bill rate and convert the data to percentage.**\n",
    "<br><br>  "
   ]
  },
  {
   "cell_type": "code",
   "execution_count": 317,
   "metadata": {},
   "outputs": [],
   "source": [
    "merge['Excess Return'] = (merge['Return']-merge['Rate'])*100"
   ]
  },
  {
   "cell_type": "markdown",
   "metadata": {},
   "source": [
    "----\n",
    "<font size=4>\n",
    "    \n",
    "**Got the excess rate we want and output to excel.**\n",
    "<br><br>  "
   ]
  },
  {
   "cell_type": "code",
   "execution_count": 318,
   "metadata": {},
   "outputs": [
    {
     "data": {
      "text/html": [
       "<div>\n",
       "<style scoped>\n",
       "    .dataframe tbody tr th:only-of-type {\n",
       "        vertical-align: middle;\n",
       "    }\n",
       "\n",
       "    .dataframe tbody tr th {\n",
       "        vertical-align: top;\n",
       "    }\n",
       "\n",
       "    .dataframe thead th {\n",
       "        text-align: right;\n",
       "    }\n",
       "</style>\n",
       "<table border=\"1\" class=\"dataframe\">\n",
       "  <thead>\n",
       "    <tr style=\"text-align: right;\">\n",
       "      <th></th>\n",
       "      <th>DATE</th>\n",
       "      <th>Price</th>\n",
       "      <th>Return</th>\n",
       "      <th>Rate</th>\n",
       "      <th>Excess Return</th>\n",
       "    </tr>\n",
       "  </thead>\n",
       "  <tbody>\n",
       "    <tr>\n",
       "      <th>0</th>\n",
       "      <td>2019-12-31</td>\n",
       "      <td>61.14</td>\n",
       "      <td>-0.008433</td>\n",
       "      <td>0.0152</td>\n",
       "      <td>-2.363334</td>\n",
       "    </tr>\n",
       "    <tr>\n",
       "      <th>1</th>\n",
       "      <td>2020-01-02</td>\n",
       "      <td>61.17</td>\n",
       "      <td>0.000491</td>\n",
       "      <td>0.0151</td>\n",
       "      <td>-1.460932</td>\n",
       "    </tr>\n",
       "    <tr>\n",
       "      <th>2</th>\n",
       "      <td>2020-01-03</td>\n",
       "      <td>63.00</td>\n",
       "      <td>0.029917</td>\n",
       "      <td>0.0149</td>\n",
       "      <td>1.501663</td>\n",
       "    </tr>\n",
       "    <tr>\n",
       "      <th>3</th>\n",
       "      <td>2020-01-06</td>\n",
       "      <td>63.27</td>\n",
       "      <td>0.004286</td>\n",
       "      <td>0.0153</td>\n",
       "      <td>-1.101429</td>\n",
       "    </tr>\n",
       "    <tr>\n",
       "      <th>4</th>\n",
       "      <td>2020-01-07</td>\n",
       "      <td>62.70</td>\n",
       "      <td>-0.009009</td>\n",
       "      <td>0.0151</td>\n",
       "      <td>-2.410901</td>\n",
       "    </tr>\n",
       "    <tr>\n",
       "      <th>...</th>\n",
       "      <td>...</td>\n",
       "      <td>...</td>\n",
       "      <td>...</td>\n",
       "      <td>...</td>\n",
       "      <td>...</td>\n",
       "    </tr>\n",
       "    <tr>\n",
       "      <th>248</th>\n",
       "      <td>2020-12-24</td>\n",
       "      <td>48.18</td>\n",
       "      <td>0.005006</td>\n",
       "      <td>0.0009</td>\n",
       "      <td>0.410626</td>\n",
       "    </tr>\n",
       "    <tr>\n",
       "      <th>249</th>\n",
       "      <td>2020-12-28</td>\n",
       "      <td>47.50</td>\n",
       "      <td>-0.014114</td>\n",
       "      <td>0.0011</td>\n",
       "      <td>-1.521374</td>\n",
       "    </tr>\n",
       "    <tr>\n",
       "      <th>250</th>\n",
       "      <td>2020-12-29</td>\n",
       "      <td>47.85</td>\n",
       "      <td>0.007368</td>\n",
       "      <td>0.0010</td>\n",
       "      <td>0.636842</td>\n",
       "    </tr>\n",
       "    <tr>\n",
       "      <th>251</th>\n",
       "      <td>2020-12-30</td>\n",
       "      <td>48.24</td>\n",
       "      <td>0.008150</td>\n",
       "      <td>0.0008</td>\n",
       "      <td>0.735047</td>\n",
       "    </tr>\n",
       "    <tr>\n",
       "      <th>252</th>\n",
       "      <td>2020-12-31</td>\n",
       "      <td>48.35</td>\n",
       "      <td>0.002280</td>\n",
       "      <td>0.0009</td>\n",
       "      <td>0.138027</td>\n",
       "    </tr>\n",
       "  </tbody>\n",
       "</table>\n",
       "<p>250 rows × 5 columns</p>\n",
       "</div>"
      ],
      "text/plain": [
       "          DATE  Price    Return    Rate  Excess Return\n",
       "0   2019-12-31  61.14 -0.008433  0.0152      -2.363334\n",
       "1   2020-01-02  61.17  0.000491  0.0151      -1.460932\n",
       "2   2020-01-03  63.00  0.029917  0.0149       1.501663\n",
       "3   2020-01-06  63.27  0.004286  0.0153      -1.101429\n",
       "4   2020-01-07  62.70 -0.009009  0.0151      -2.410901\n",
       "..         ...    ...       ...     ...            ...\n",
       "248 2020-12-24  48.18  0.005006  0.0009       0.410626\n",
       "249 2020-12-28  47.50 -0.014114  0.0011      -1.521374\n",
       "250 2020-12-29  47.85  0.007368  0.0010       0.636842\n",
       "251 2020-12-30  48.24  0.008150  0.0008       0.735047\n",
       "252 2020-12-31  48.35  0.002280  0.0009       0.138027\n",
       "\n",
       "[250 rows x 5 columns]"
      ]
     },
     "execution_count": 318,
     "metadata": {},
     "output_type": "execute_result"
    }
   ],
   "source": [
    "merge"
   ]
  },
  {
   "cell_type": "code",
   "execution_count": 319,
   "metadata": {},
   "outputs": [],
   "source": [
    "merge.to_excel('Excess Return.xls') "
   ]
  },
  {
   "cell_type": "markdown",
   "metadata": {},
   "source": [
    "<font size=6>\n",
    "<br><br>     \n",
    "\n",
    "**Log Cumulative Excess Return**\n",
    "\n",
    "----\n",
    "<font size=4>\n",
    "\n",
    "**The one-period return for k-period(in this case, daily) is $\\it R_t(k) = (R_t+1)(R_{t-1}+1)...(R_{t-k+1})-1$**\n",
    "\n",
    "**The one-period log return is $r_t = log(1+R_t)$.**\n",
    "<br><br> \n",
    "    \n",
    "<font size=3>\n",
    "    \n",
    "**We want to calculate Cumulative Excess Return by using dataframe merge we got earlier. Name it CER.**\n",
    "<br><br>"
   ]
  },
  {
   "cell_type": "code",
   "execution_count": 320,
   "metadata": {},
   "outputs": [],
   "source": [
    "Prod = 1\n",
    "for data in merge['Excess Return']:\n",
    "    Prod = Prod*(1+data)\n",
    "CER = Prod-1"
   ]
  },
  {
   "cell_type": "markdown",
   "metadata": {},
   "source": [
    "----\n",
    "<font size=3>\n",
    "    \n",
    "**Calculate Cumulative Log Excess Return and convert it to percentage.**\n",
    "<br><br>"
   ]
  },
  {
   "cell_type": "code",
   "execution_count": 321,
   "metadata": {},
   "outputs": [
    {
     "data": {
      "text/plain": [
       "16286.148361081765"
      ]
     },
     "execution_count": 321,
     "metadata": {},
     "output_type": "execute_result"
    }
   ],
   "source": [
    "LogCER = np.log(1+CER)*100\n",
    "LogCER"
   ]
  },
  {
   "cell_type": "code",
   "execution_count": null,
   "metadata": {},
   "outputs": [],
   "source": []
  }
 ],
 "metadata": {
  "kernelspec": {
   "display_name": "Python 3",
   "language": "python",
   "name": "python3"
  },
  "language_info": {
   "codemirror_mode": {
    "name": "ipython",
    "version": 3
   },
   "file_extension": ".py",
   "mimetype": "text/x-python",
   "name": "python",
   "nbconvert_exporter": "python",
   "pygments_lexer": "ipython3",
   "version": "3.6.8"
  }
 },
 "nbformat": 4,
 "nbformat_minor": 4
}
